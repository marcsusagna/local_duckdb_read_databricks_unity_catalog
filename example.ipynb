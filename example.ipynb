{
 "cells": [
  {
   "cell_type": "code",
   "execution_count": null,
   "id": "f77e9907",
   "metadata": {},
   "outputs": [],
   "source": [
    "import os\n",
    "from pathlib import Path\n",
    "\n",
    "from dotenv import load_dotenv\n",
    "\n",
    "import duckdb as db\n",
    "\n",
    "from src.utils import duckdb_read_uc"
   ]
  },
  {
   "cell_type": "code",
   "execution_count": null,
   "id": "03f9e620",
   "metadata": {},
   "outputs": [],
   "source": [
    "# Constants\n",
    "# UC tables\n",
    "CATALOG_NAME=\"your_uc_catalog\"\n",
    "SCHEMA_NAME=\"your_schema\"\n",
    "TABLE_NAME=\"your_table\"\n",
    "\n",
    "# Project \n",
    "DOTENV_PATH=\"devops/.env\""
   ]
  },
  {
   "cell_type": "code",
   "execution_count": 3,
   "id": "22d72478",
   "metadata": {},
   "outputs": [],
   "source": [
    "# Variable resolution and loading\n",
    "load_dotenv(dotenv_path=Path(DOTENV_PATH))\n",
    "table_uc_name=f\"{CATALOG_NAME}.{SCHEMA_NAME}.{TABLE_NAME}\""
   ]
  },
  {
   "cell_type": "markdown",
   "id": "11498dd3",
   "metadata": {},
   "source": [
    "1. Read table without column pruning nor predicate pushdown"
   ]
  },
  {
   "cell_type": "code",
   "execution_count": null,
   "id": "ab67c7c3",
   "metadata": {},
   "outputs": [],
   "source": [
    "my_db_rel_all=duckdb_read_uc(table_uc_name)"
   ]
  },
  {
   "cell_type": "code",
   "execution_count": null,
   "id": "5819448b",
   "metadata": {},
   "outputs": [],
   "source": [
    "some_agg_from_all = db.query(\n",
    "  \"\"\"\n",
    "  SELECT some_groupby_column, SUM(some_column_to_agg) as some_alias\n",
    "  FROM my_db_rel_all\n",
    "  GROUP BY some_groupby_column\n",
    "  \"\"\"\n",
    ")"
   ]
  },
  {
   "cell_type": "code",
   "execution_count": null,
   "id": "15b576e9",
   "metadata": {},
   "outputs": [],
   "source": [
    "query_results=some_agg_from_all.execute()"
   ]
  },
  {
   "cell_type": "markdown",
   "id": "9dc77fb5",
   "metadata": {},
   "source": [
    "2. Read table with column pruning"
   ]
  },
  {
   "cell_type": "code",
   "execution_count": null,
   "id": "8650249b",
   "metadata": {},
   "outputs": [],
   "source": [
    "my_db_rel_column_pruned=(\n",
    "    duckdb_read_uc(\n",
    "        table_uc_name,\n",
    "        columns=[\"some_groupby_column\", \"some_column_to_agg\"]\n",
    "    )\n",
    ")"
   ]
  },
  {
   "cell_type": "code",
   "execution_count": null,
   "id": "adf42b85",
   "metadata": {},
   "outputs": [],
   "source": [
    "some_agg_from_column_pruned = db.query(\n",
    "  \"\"\"\n",
    "  SELECT some_groupby_column, SUM(some_column_to_agg) as some_alias\n",
    "  FROM my_db_rel_column_pruned\n",
    "  GROUP BY some_groupby_column\n",
    "  \"\"\"\n",
    ")"
   ]
  },
  {
   "cell_type": "code",
   "execution_count": null,
   "id": "32d63473",
   "metadata": {},
   "outputs": [],
   "source": [
    "query_results=some_agg_from_column_pruned.execute()"
   ]
  },
  {
   "cell_type": "markdown",
   "id": "90d5ff43",
   "metadata": {},
   "source": [
    "3. Read table with column pruning and predicate pushdown (assume table partitioned)"
   ]
  },
  {
   "cell_type": "code",
   "execution_count": null,
   "id": "166bdd5d",
   "metadata": {},
   "outputs": [],
   "source": [
    "my_db_rel_small=(\n",
    "    duckdb_read_uc(\n",
    "        table_uc_name,\n",
    "        partitions=[(\"some_partition_col\", \"=\", \"some_partition_val\")],\n",
    "        columns=[\"some_groupby_column\", \"some_column_to_agg\"]\n",
    "    )\n",
    ")"
   ]
  },
  {
   "cell_type": "code",
   "execution_count": null,
   "id": "4172434b",
   "metadata": {},
   "outputs": [],
   "source": [
    "some_agg_from_small = db.query(\n",
    "  \"\"\"\n",
    "  SELECT some_groupby_column, SUM(some_column_to_agg) as some_alias\n",
    "  FROM my_db_rel_small\n",
    "  GROUP BY some_groupby_column\n",
    "  \"\"\"\n",
    ")"
   ]
  },
  {
   "cell_type": "code",
   "execution_count": null,
   "id": "840ea25b",
   "metadata": {},
   "outputs": [],
   "source": [
    "query_results=some_agg_from_column_pruned.execute()"
   ]
  },
  {
   "cell_type": "markdown",
   "id": "8142dbed",
   "metadata": {},
   "source": [
    "Compare sizes:"
   ]
  },
  {
   "cell_type": "code",
   "execution_count": null,
   "id": "5b30f303",
   "metadata": {},
   "outputs": [
    {
     "name": "stdout",
     "output_type": "stream",
     "text": [
      "Size all: 2.122442901134491\n",
      "Size column pruning: 0.10247126780450344\n",
      "Size column pruning and predicate pushdown: 0.04640738479793072\n"
     ]
    }
   ],
   "source": [
    "def get_db_rel_size_in_gb(db_rel):\n",
    "    return db_rel.arrow().nbytes / (1024 ** 3)\n",
    "\n",
    "print(f\"Size all: {get_db_rel_size_in_gb(my_db_rel_all)}\")\n",
    "print(f\"Size column pruning: {get_db_rel_size_in_gb(my_db_rel_column_pruned)}\")\n",
    "print(f\"Size column pruning and predicate pushdown: {get_db_rel_size_in_gb(my_db_rel_small)}\")"
   ]
  },
  {
   "cell_type": "code",
   "execution_count": null,
   "id": "04c69d47",
   "metadata": {},
   "outputs": [],
   "source": []
  }
 ],
 "metadata": {
  "kernelspec": {
   "display_name": ".venv",
   "language": "python",
   "name": "python3"
  },
  "language_info": {
   "codemirror_mode": {
    "name": "ipython",
    "version": 3
   },
   "file_extension": ".py",
   "mimetype": "text/x-python",
   "name": "python",
   "nbconvert_exporter": "python",
   "pygments_lexer": "ipython3",
   "version": "3.11.4"
  }
 },
 "nbformat": 4,
 "nbformat_minor": 5
}
